{
  "nbformat": 4,
  "nbformat_minor": 0,
  "metadata": {
    "colab": {
      "provenance": [],
      "gpuType": "T4"
    },
    "kernelspec": {
      "name": "python3",
      "display_name": "Python 3"
    },
    "language_info": {
      "name": "python"
    },
    "accelerator": "GPU"
  },
  "cells": [
    {
      "cell_type": "code",
      "execution_count": null,
      "metadata": {
        "colab": {
          "base_uri": "https://localhost:8080/"
        },
        "id": "KKcX53r7rxKr",
        "outputId": "b20ca8da-c37a-4bf6-e1a5-26f557a5253e"
      },
      "outputs": [
        {
          "output_type": "stream",
          "name": "stdout",
          "text": [
            "Mounted at /content/drive\n"
          ]
        }
      ],
      "source": [
        "from google.colab import drive\n",
        "drive.mount('/content/drive')"
      ]
    },
    {
      "cell_type": "code",
      "source": [
        "import torch\n",
        "import torch.nn as nn\n",
        "import torch.optim as optim\n",
        "from torch.utils.data import DataLoader\n",
        "from torchvision import datasets, transforms, models\n",
        "from sklearn.model_selection import train_test_split\n",
        "from sklearn.metrics import accuracy_score, classification_report, confusion_matrix\n",
        "from PIL import Image\n",
        "import os\n",
        "\n",
        "\n",
        "# 데이터 전처리\n",
        "transform = transforms.Compose([\n",
        "    transforms.Resize((224, 224)),\n",
        "    transforms.ToTensor(),\n",
        "    transforms.Normalize(mean=[0.485, 0.456, 0.406], std=[0.229, 0.224, 0.225])\n",
        "])\n",
        "\n",
        "data_path = \"/content/drive/MyDrive/class/캡스톤/베도승격/data/전처리_이미지\"  # 본인의 데이터셋 경로로 변경\n",
        "\n",
        "dataset = datasets.ImageFolder(root=data_path, transform=transform)\n",
        "\n",
        "train_data, test_data = train_test_split(dataset, test_size=0.2, random_state=42)\n",
        "\n",
        "# DataLoader\n",
        "train_loader = DataLoader(train_data, batch_size=32, shuffle=True)\n",
        "test_loader = DataLoader(test_data, batch_size=32, shuffle=False)\n",
        "\n",
        "# ResNet\n",
        "resnet_model = models.resnet18(pretrained=True)\n",
        "num_ftrs = resnet_model.fc.in_features\n",
        "resnet_model.fc = nn.Linear(num_ftrs, len(dataset.classes))\n",
        "resnet_model = resnet_model.to(device)\n",
        "\n",
        "# loss_optimizer\n",
        "criterion = nn.CrossEntropyLoss()\n",
        "optimizer = optim.Adam(resnet_model.parameters(), lr=0.001)\n",
        "\n",
        "# train_model\n",
        "def train(model, train_loader, criterion, optimizer, device):\n",
        "    model.train()\n",
        "    running_loss = 0.0\n",
        "    for inputs, labels in train_loader:\n",
        "        inputs, labels = inputs.to(device), labels.to(device)\n",
        "        optimizer.zero_grad()\n",
        "        outputs = model(inputs)\n",
        "        loss = criterion(outputs, labels)\n",
        "        loss.backward()\n",
        "        optimizer.step()\n",
        "        running_loss += loss.item() * inputs.size(0)\n",
        "    return running_loss / len(train_loader.dataset)\n",
        "\n",
        "# test_model\n",
        "def test(model, test_loader, criterion, device):\n",
        "    model.eval()\n",
        "    running_loss = 0.0\n",
        "    all_labels = []\n",
        "    all_preds = []\n",
        "    with torch.no_grad():\n",
        "        for inputs, labels in test_loader:\n",
        "            inputs, labels = inputs.to(device), labels.to(device)\n",
        "            outputs = model(inputs)\n",
        "            loss = criterion(outputs, labels)\n",
        "            running_loss += loss.item() * inputs.size(0)\n",
        "            _, preds = torch.max(outputs, 1)\n",
        "            all_labels.extend(labels.cpu().numpy())\n",
        "            all_preds.extend(preds.cpu().numpy())\n",
        "    loss = running_loss / len(test_loader.dataset)\n",
        "    accuracy = accuracy_score(all_labels, all_preds)\n",
        "    return loss, accuracy\n",
        "\n",
        "# 작동\n",
        "num_epochs = 10\n",
        "for epoch in range(num_epochs):\n",
        "    train_loss = train(resnet_model, train_loader, criterion, optimizer, device)\n",
        "    test_loss, test_accuracy = test(resnet_model, test_loader, criterion, device)\n",
        "    print(f\"Epoch {epoch + 1}/{num_epochs} -> Train Loss: {train_loss:.4f}, Test Loss: {test_loss:.4f}, Test Accuracy: {test_accuracy:.4f}\")"
      ],
      "metadata": {
        "id": "GsYJGbsQ-zGW"
      },
      "execution_count": null,
      "outputs": []
    },
    {
      "cell_type": "code",
      "source": [
        "import os\n",
        "import numpy as np\n",
        "from PIL import Image\n",
        "from sklearn.model_selection import train_test_split\n",
        "from sklearn.preprocessing import LabelEncoder\n",
        "from tensorflow.keras import layers, models, optimizers\n",
        "from tensorflow.keras.applications import ResNet50\n",
        "from tqdm import tqdm\n",
        "from tensorflow.keras.preprocessing.image import ImageDataGenerator\n",
        "from tensorflow.keras.callbacks import EarlyStopping"
      ],
      "metadata": {
        "id": "-aw9Ytw8r2pB"
      },
      "execution_count": null,
      "outputs": []
    },
    {
      "cell_type": "code",
      "source": [
        "# 데이터 경로 설정\n",
        "data_path = \"/content/drive/MyDrive/캡스톤_팀플/data/crop_img\""
      ],
      "metadata": {
        "id": "HIW048r0r2rK"
      },
      "execution_count": null,
      "outputs": []
    },
    {
      "cell_type": "code",
      "source": [
        "# 이미지 크기 및 배치 크기 설정 (크기를 더 작게 조절)\n",
        "img_size = (64, 64)\n",
        "batch_size = 16"
      ],
      "metadata": {
        "id": "5pvsnGVFr2tI"
      },
      "execution_count": null,
      "outputs": []
    },
    {
      "cell_type": "code",
      "source": [
        "# 데이터 불러오기 및 전처리\n",
        "def load_data(data_path):\n",
        "    images = []\n",
        "    labels = []\n",
        "\n",
        "    for folder_name in os.listdir(data_path):\n",
        "        folder_path = os.path.join(data_path, folder_name)\n",
        "        if os.path.isdir(folder_path):\n",
        "            for filename in os.listdir(folder_path):\n",
        "                image_path = os.path.join(folder_path, filename)\n",
        "                img = Image.open(image_path)\n",
        "                img = img.resize(img_size)\n",
        "                img_array = np.array(img) / 255.0  # Normalize\n",
        "                images.append(img_array)\n",
        "                labels.append(folder_name)\n",
        "\n",
        "    return np.array(images), np.array(labels)"
      ],
      "metadata": {
        "id": "LK1d89jfr2vk"
      },
      "execution_count": null,
      "outputs": []
    },
    {
      "cell_type": "code",
      "source": [
        "# tqdm을 사용하여 데이터 로드\n",
        "def load_data_with_progress(data_path):\n",
        "    images = []\n",
        "    labels = []\n",
        "\n",
        "    for folder_name in tqdm(os.listdir(data_path), desc=\"Loading Data\"):\n",
        "        folder_path = os.path.join(data_path, folder_name)\n",
        "        if os.path.isdir(folder_path):\n",
        "            for filename in os.listdir(folder_path):\n",
        "                image_path = os.path.join(folder_path, filename)\n",
        "                img = Image.open(image_path)\n",
        "                img = img.resize(img_size)\n",
        "                img_array = np.array(img) / 255.0  # Normalize\n",
        "                images.append(img_array)\n",
        "                labels.append(folder_name)\n",
        "\n",
        "    return np.array(images), np.array(labels)\n",
        "\n",
        "# 데이터 로드\n",
        "images, labels = load_data_with_progress(data_path)"
      ],
      "metadata": {
        "colab": {
          "base_uri": "https://localhost:8080/"
        },
        "id": "16inmdDnr2xx",
        "outputId": "072d61a1-07a3-4c15-98d7-7c4dc6a48062"
      },
      "execution_count": null,
      "outputs": [
        {
          "output_type": "stream",
          "name": "stderr",
          "text": [
            "Loading Data: 100%|██████████| 80/80 [23:56<00:00, 17.95s/it]\n"
          ]
        }
      ]
    },
    {
      "cell_type": "code",
      "source": [
        "# 레이블 인코딩\n",
        "label_encoder = LabelEncoder()\n",
        "labels_encoded = label_encoder.fit_transform(labels)"
      ],
      "metadata": {
        "id": "oPIqxygyr24K"
      },
      "execution_count": null,
      "outputs": []
    },
    {
      "cell_type": "code",
      "source": [
        "# 데이터 분할\n",
        "X_train, X_test, y_train, y_test = train_test_split(\n",
        "    images, labels_encoded, test_size=0.2, random_state=42\n",
        ")"
      ],
      "metadata": {
        "id": "HaJhGvCDr26f"
      },
      "execution_count": null,
      "outputs": []
    },
    {
      "cell_type": "code",
      "source": [
        "# ResNet50 모델 불러오기\n",
        "base_model = ResNet50(weights=\"imagenet\", include_top=False, input_shape=(64, 64, 3))"
      ],
      "metadata": {
        "id": "smUykHgFr284"
      },
      "execution_count": null,
      "outputs": []
    },
    {
      "cell_type": "code",
      "source": [
        "# 모델 구성\n",
        "model = models.Sequential()\n",
        "model.add(base_model)\n",
        "model.add(layers.GlobalAveragePooling2D())\n",
        "model.add(layers.Dense(512, activation=\"relu\"))  # 뉴런 수 증가\n",
        "model.add(layers.Dropout(0.5))\n",
        "model.add(layers.Dense(len(label_encoder.classes_), activation=\"softmax\"))"
      ],
      "metadata": {
        "id": "YQN-nq9Dr2_d"
      },
      "execution_count": null,
      "outputs": []
    },
    {
      "cell_type": "code",
      "source": [
        "# 모델 컴파일\n",
        "model.compile(\n",
        "    optimizer=optimizers.Adam(learning_rate=0.0001),  # 학습률 조절\n",
        "    loss=\"sparse_categorical_crossentropy\",\n",
        "    metrics=[\"accuracy\"],\n",
        ")"
      ],
      "metadata": {
        "id": "gc1CPIoIr3F8"
      },
      "execution_count": null,
      "outputs": []
    },
    {
      "cell_type": "code",
      "source": [
        "# 데이터 증강을 사용한 학습\n",
        "train_datagen = ImageDataGenerator(\n",
        "    rotation_range=20,\n",
        "    width_shift_range=0.2,\n",
        "    height_shift_range=0.2,\n",
        "    horizontal_flip=True\n",
        ")\n",
        "train_datagen.fit(X_train)"
      ],
      "metadata": {
        "id": "CrwGa8SpsJg1"
      },
      "execution_count": null,
      "outputs": []
    },
    {
      "cell_type": "code",
      "source": [
        "# EarlyStopping 콜백 정의\n",
        "early_stopping = EarlyStopping(monitor='val_loss', patience=20, restore_best_weights=True)"
      ],
      "metadata": {
        "id": "05FYYPu7sJmf"
      },
      "execution_count": null,
      "outputs": []
    },
    {
      "cell_type": "code",
      "source": [
        "# 모델 학습\n",
        "history = model.fit(\n",
        "    train_datagen.flow(X_train, y_train, batch_size=batch_size),\n",
        "    validation_data=(X_test, y_test),\n",
        "    epochs=100,  # 적절한 에폭 설정\n",
        "    callbacks=[early_stopping]  # EarlyStopping 콜백 추가\n",
        ")"
      ],
      "metadata": {
        "colab": {
          "base_uri": "https://localhost:8080/"
        },
        "id": "cBKHRhmnsMT2",
        "outputId": "ce453f4e-3762-48a4-8fd6-17ad7fe971bf"
      },
      "execution_count": null,
      "outputs": [
        {
          "output_type": "stream",
          "name": "stdout",
          "text": [
            "Epoch 1/100\n",
            "432/432 [==============================] - 63s 71ms/step - loss: 3.8054 - accuracy: 0.1474 - val_loss: 3.4247 - val_accuracy: 0.1876\n",
            "Epoch 2/100\n",
            "432/432 [==============================] - 29s 67ms/step - loss: 3.3211 - accuracy: 0.1868 - val_loss: 3.1595 - val_accuracy: 0.2218\n",
            "Epoch 3/100\n",
            "432/432 [==============================] - 29s 67ms/step - loss: 3.1654 - accuracy: 0.2103 - val_loss: 3.0588 - val_accuracy: 0.2397\n",
            "Epoch 4/100\n",
            "432/432 [==============================] - 29s 68ms/step - loss: 3.0907 - accuracy: 0.2163 - val_loss: 3.1200 - val_accuracy: 0.2171\n",
            "Epoch 5/100\n",
            "432/432 [==============================] - 29s 67ms/step - loss: 3.0411 - accuracy: 0.2282 - val_loss: 2.9048 - val_accuracy: 0.2467\n",
            "Epoch 6/100\n",
            "432/432 [==============================] - 30s 68ms/step - loss: 2.9809 - accuracy: 0.2430 - val_loss: 2.8938 - val_accuracy: 0.2490\n",
            "Epoch 7/100\n",
            "432/432 [==============================] - 30s 68ms/step - loss: 2.9299 - accuracy: 0.2443 - val_loss: 2.8804 - val_accuracy: 0.2583\n",
            "Epoch 8/100\n",
            "432/432 [==============================] - 29s 68ms/step - loss: 2.8662 - accuracy: 0.2612 - val_loss: 2.8108 - val_accuracy: 0.2675\n",
            "Epoch 9/100\n",
            "432/432 [==============================] - 29s 66ms/step - loss: 2.8522 - accuracy: 0.2605 - val_loss: 2.8244 - val_accuracy: 0.2600\n",
            "Epoch 10/100\n",
            "432/432 [==============================] - 29s 67ms/step - loss: 2.7995 - accuracy: 0.2738 - val_loss: 2.7695 - val_accuracy: 0.2843\n",
            "Epoch 11/100\n",
            "432/432 [==============================] - 29s 66ms/step - loss: 2.7440 - accuracy: 0.2931 - val_loss: 2.6884 - val_accuracy: 0.2976\n",
            "Epoch 12/100\n",
            "432/432 [==============================] - 28s 65ms/step - loss: 2.7193 - accuracy: 0.2926 - val_loss: 2.6626 - val_accuracy: 0.2895\n",
            "Epoch 13/100\n",
            "432/432 [==============================] - 28s 65ms/step - loss: 2.6784 - accuracy: 0.3008 - val_loss: 2.6488 - val_accuracy: 0.2965\n",
            "Epoch 14/100\n",
            "432/432 [==============================] - 29s 66ms/step - loss: 2.6585 - accuracy: 0.2994 - val_loss: 2.6543 - val_accuracy: 0.2970\n",
            "Epoch 15/100\n",
            "432/432 [==============================] - 31s 72ms/step - loss: 2.6081 - accuracy: 0.3064 - val_loss: 2.5989 - val_accuracy: 0.3191\n",
            "Epoch 16/100\n",
            "432/432 [==============================] - 29s 67ms/step - loss: 2.5843 - accuracy: 0.3157 - val_loss: 2.7106 - val_accuracy: 0.2953\n",
            "Epoch 17/100\n",
            "432/432 [==============================] - 30s 68ms/step - loss: 2.5338 - accuracy: 0.3309 - val_loss: 2.5211 - val_accuracy: 0.3335\n",
            "Epoch 18/100\n",
            "432/432 [==============================] - 29s 68ms/step - loss: 2.4997 - accuracy: 0.3341 - val_loss: 2.6308 - val_accuracy: 0.3248\n",
            "Epoch 19/100\n",
            "432/432 [==============================] - 29s 67ms/step - loss: 2.4876 - accuracy: 0.3349 - val_loss: 2.4509 - val_accuracy: 0.3509\n",
            "Epoch 20/100\n",
            "432/432 [==============================] - 29s 66ms/step - loss: 2.4559 - accuracy: 0.3425 - val_loss: 2.5176 - val_accuracy: 0.3301\n",
            "Epoch 21/100\n",
            "432/432 [==============================] - 29s 67ms/step - loss: 2.4071 - accuracy: 0.3523 - val_loss: 2.4089 - val_accuracy: 0.3665\n",
            "Epoch 22/100\n",
            "432/432 [==============================] - 29s 68ms/step - loss: 2.3916 - accuracy: 0.3543 - val_loss: 2.4380 - val_accuracy: 0.3428\n",
            "Epoch 23/100\n",
            "432/432 [==============================] - 29s 67ms/step - loss: 2.3765 - accuracy: 0.3626 - val_loss: 2.4842 - val_accuracy: 0.3428\n",
            "Epoch 24/100\n",
            "432/432 [==============================] - 29s 67ms/step - loss: 2.3388 - accuracy: 0.3672 - val_loss: 2.5821 - val_accuracy: 0.3237\n",
            "Epoch 25/100\n",
            "432/432 [==============================] - 29s 66ms/step - loss: 2.3042 - accuracy: 0.3750 - val_loss: 2.6610 - val_accuracy: 0.3185\n",
            "Epoch 26/100\n",
            "432/432 [==============================] - 28s 66ms/step - loss: 2.3154 - accuracy: 0.3781 - val_loss: 2.4896 - val_accuracy: 0.3555\n",
            "Epoch 27/100\n",
            "432/432 [==============================] - 29s 66ms/step - loss: 2.2647 - accuracy: 0.3862 - val_loss: 2.2567 - val_accuracy: 0.3903\n",
            "Epoch 28/100\n",
            "432/432 [==============================] - 28s 66ms/step - loss: 2.2531 - accuracy: 0.3805 - val_loss: 2.5679 - val_accuracy: 0.3318\n",
            "Epoch 29/100\n",
            "432/432 [==============================] - 29s 67ms/step - loss: 2.2111 - accuracy: 0.3946 - val_loss: 2.4893 - val_accuracy: 0.3619\n",
            "Epoch 30/100\n",
            "432/432 [==============================] - 28s 65ms/step - loss: 2.1976 - accuracy: 0.3985 - val_loss: 2.3394 - val_accuracy: 0.3874\n",
            "Epoch 31/100\n",
            "432/432 [==============================] - 28s 64ms/step - loss: 2.1744 - accuracy: 0.4102 - val_loss: 2.3272 - val_accuracy: 0.3845\n",
            "Epoch 32/100\n",
            "432/432 [==============================] - 29s 67ms/step - loss: 2.1481 - accuracy: 0.4069 - val_loss: 2.4599 - val_accuracy: 0.3648\n",
            "Epoch 33/100\n",
            "432/432 [==============================] - 29s 67ms/step - loss: 2.1439 - accuracy: 0.4149 - val_loss: 2.2742 - val_accuracy: 0.3955\n",
            "Epoch 34/100\n",
            "432/432 [==============================] - 29s 67ms/step - loss: 2.1197 - accuracy: 0.4196 - val_loss: 2.3074 - val_accuracy: 0.3781\n",
            "Epoch 35/100\n",
            "432/432 [==============================] - 32s 73ms/step - loss: 2.0869 - accuracy: 0.4309 - val_loss: 2.3336 - val_accuracy: 0.3914\n",
            "Epoch 36/100\n",
            "432/432 [==============================] - 29s 66ms/step - loss: 2.0734 - accuracy: 0.4306 - val_loss: 2.3518 - val_accuracy: 0.3816\n",
            "Epoch 37/100\n",
            "432/432 [==============================] - 29s 66ms/step - loss: 2.0459 - accuracy: 0.4359 - val_loss: 2.3960 - val_accuracy: 0.3758\n",
            "Epoch 38/100\n",
            "432/432 [==============================] - 29s 67ms/step - loss: 2.0393 - accuracy: 0.4363 - val_loss: 2.2462 - val_accuracy: 0.4152\n",
            "Epoch 39/100\n",
            "432/432 [==============================] - 29s 68ms/step - loss: 2.0152 - accuracy: 0.4406 - val_loss: 2.1881 - val_accuracy: 0.4296\n",
            "Epoch 40/100\n",
            "432/432 [==============================] - 29s 66ms/step - loss: 1.9982 - accuracy: 0.4419 - val_loss: 2.2344 - val_accuracy: 0.4088\n",
            "Epoch 41/100\n",
            "432/432 [==============================] - 29s 68ms/step - loss: 1.9855 - accuracy: 0.4502 - val_loss: 2.6676 - val_accuracy: 0.3578\n",
            "Epoch 42/100\n",
            "432/432 [==============================] - 29s 67ms/step - loss: 1.9548 - accuracy: 0.4547 - val_loss: 2.0780 - val_accuracy: 0.4540\n",
            "Epoch 43/100\n",
            "432/432 [==============================] - 29s 68ms/step - loss: 1.9594 - accuracy: 0.4567 - val_loss: 2.3687 - val_accuracy: 0.4059\n",
            "Epoch 44/100\n",
            "432/432 [==============================] - 29s 67ms/step - loss: 1.9400 - accuracy: 0.4544 - val_loss: 2.5320 - val_accuracy: 0.3793\n",
            "Epoch 45/100\n",
            "432/432 [==============================] - 29s 66ms/step - loss: 1.9055 - accuracy: 0.4686 - val_loss: 2.4397 - val_accuracy: 0.3943\n",
            "Epoch 46/100\n",
            "432/432 [==============================] - 29s 67ms/step - loss: 1.9072 - accuracy: 0.4700 - val_loss: 2.3299 - val_accuracy: 0.4117\n",
            "Epoch 47/100\n",
            "432/432 [==============================] - 28s 64ms/step - loss: 1.8667 - accuracy: 0.4741 - val_loss: 2.1388 - val_accuracy: 0.4499\n",
            "Epoch 48/100\n",
            "432/432 [==============================] - 28s 64ms/step - loss: 1.8630 - accuracy: 0.4799 - val_loss: 2.1782 - val_accuracy: 0.4354\n",
            "Epoch 49/100\n",
            "432/432 [==============================] - 28s 66ms/step - loss: 1.8484 - accuracy: 0.4855 - val_loss: 2.0959 - val_accuracy: 0.4476\n",
            "Epoch 50/100\n",
            "432/432 [==============================] - 28s 66ms/step - loss: 1.8492 - accuracy: 0.4786 - val_loss: 2.1580 - val_accuracy: 0.4430\n",
            "Epoch 51/100\n",
            "432/432 [==============================] - 29s 67ms/step - loss: 1.8272 - accuracy: 0.4873 - val_loss: 2.2414 - val_accuracy: 0.4198\n",
            "Epoch 52/100\n",
            "432/432 [==============================] - 29s 66ms/step - loss: 1.7922 - accuracy: 0.4945 - val_loss: 2.4061 - val_accuracy: 0.3856\n",
            "Epoch 53/100\n",
            "432/432 [==============================] - 30s 68ms/step - loss: 1.7669 - accuracy: 0.4981 - val_loss: 2.0958 - val_accuracy: 0.4557\n",
            "Epoch 54/100\n",
            "432/432 [==============================] - 29s 68ms/step - loss: 1.7777 - accuracy: 0.4939 - val_loss: 1.9006 - val_accuracy: 0.4980\n",
            "Epoch 55/100\n",
            "432/432 [==============================] - 29s 66ms/step - loss: 1.7775 - accuracy: 0.4987 - val_loss: 2.1284 - val_accuracy: 0.4517\n",
            "Epoch 56/100\n",
            "432/432 [==============================] - 32s 73ms/step - loss: 1.7521 - accuracy: 0.5055 - val_loss: 2.2935 - val_accuracy: 0.4186\n",
            "Epoch 57/100\n",
            "432/432 [==============================] - 29s 68ms/step - loss: 1.7432 - accuracy: 0.5077 - val_loss: 2.3089 - val_accuracy: 0.4192\n",
            "Epoch 58/100\n",
            "432/432 [==============================] - 29s 66ms/step - loss: 1.7131 - accuracy: 0.5111 - val_loss: 1.9625 - val_accuracy: 0.4904\n",
            "Epoch 59/100\n",
            "432/432 [==============================] - 29s 66ms/step - loss: 1.6922 - accuracy: 0.5193 - val_loss: 2.3758 - val_accuracy: 0.4001\n",
            "Epoch 60/100\n",
            "432/432 [==============================] - 29s 66ms/step - loss: 1.6769 - accuracy: 0.5210 - val_loss: 2.0122 - val_accuracy: 0.4713\n",
            "Epoch 61/100\n",
            "432/432 [==============================] - 29s 68ms/step - loss: 1.6858 - accuracy: 0.5224 - val_loss: 2.1652 - val_accuracy: 0.4551\n",
            "Epoch 62/100\n",
            "432/432 [==============================] - 29s 67ms/step - loss: 1.6625 - accuracy: 0.5301 - val_loss: 2.1129 - val_accuracy: 0.4580\n",
            "Epoch 63/100\n",
            "432/432 [==============================] - 29s 66ms/step - loss: 1.6456 - accuracy: 0.5303 - val_loss: 2.0983 - val_accuracy: 0.4545\n",
            "Epoch 64/100\n",
            "432/432 [==============================] - 29s 67ms/step - loss: 1.6425 - accuracy: 0.5381 - val_loss: 2.2192 - val_accuracy: 0.4250\n",
            "Epoch 65/100\n",
            "432/432 [==============================] - 29s 67ms/step - loss: 1.6598 - accuracy: 0.5258 - val_loss: 1.8801 - val_accuracy: 0.4980\n",
            "Epoch 66/100\n",
            "432/432 [==============================] - 29s 66ms/step - loss: 1.6093 - accuracy: 0.5410 - val_loss: 2.0640 - val_accuracy: 0.4627\n",
            "Epoch 67/100\n",
            "432/432 [==============================] - 26s 60ms/step - loss: 1.6136 - accuracy: 0.5392 - val_loss: 2.2876 - val_accuracy: 0.4233\n",
            "Epoch 68/100\n",
            "432/432 [==============================] - 24s 56ms/step - loss: 1.5848 - accuracy: 0.5421 - val_loss: 2.1742 - val_accuracy: 0.4441\n",
            "Epoch 69/100\n",
            "432/432 [==============================] - 27s 63ms/step - loss: 1.5767 - accuracy: 0.5501 - val_loss: 2.0303 - val_accuracy: 0.4667\n",
            "Epoch 70/100\n",
            "432/432 [==============================] - 28s 66ms/step - loss: 1.5701 - accuracy: 0.5514 - val_loss: 2.0700 - val_accuracy: 0.4586\n",
            "Epoch 71/100\n",
            "432/432 [==============================] - 28s 65ms/step - loss: 1.5468 - accuracy: 0.5544 - val_loss: 2.2682 - val_accuracy: 0.4285\n",
            "Epoch 72/100\n",
            "432/432 [==============================] - 28s 65ms/step - loss: 1.5338 - accuracy: 0.5631 - val_loss: 1.8829 - val_accuracy: 0.5061\n",
            "Epoch 73/100\n",
            "432/432 [==============================] - 29s 66ms/step - loss: 1.5195 - accuracy: 0.5631 - val_loss: 2.0941 - val_accuracy: 0.4557\n",
            "Epoch 74/100\n",
            "432/432 [==============================] - 29s 67ms/step - loss: 1.5263 - accuracy: 0.5595 - val_loss: 1.9720 - val_accuracy: 0.4847\n",
            "Epoch 75/100\n",
            "432/432 [==============================] - 28s 64ms/step - loss: 1.5058 - accuracy: 0.5682 - val_loss: 1.8571 - val_accuracy: 0.5055\n",
            "Epoch 76/100\n",
            "432/432 [==============================] - 26s 60ms/step - loss: 1.5187 - accuracy: 0.5611 - val_loss: 2.1020 - val_accuracy: 0.4603\n",
            "Epoch 77/100\n",
            "432/432 [==============================] - 28s 65ms/step - loss: 1.4886 - accuracy: 0.5694 - val_loss: 2.0104 - val_accuracy: 0.4818\n",
            "Epoch 78/100\n",
            "432/432 [==============================] - 27s 63ms/step - loss: 1.4744 - accuracy: 0.5785 - val_loss: 2.1969 - val_accuracy: 0.4470\n",
            "Epoch 79/100\n",
            "432/432 [==============================] - 28s 64ms/step - loss: 1.4648 - accuracy: 0.5809 - val_loss: 1.8095 - val_accuracy: 0.5263\n",
            "Epoch 80/100\n",
            "432/432 [==============================] - 28s 64ms/step - loss: 1.4445 - accuracy: 0.5836 - val_loss: 2.3711 - val_accuracy: 0.4175\n",
            "Epoch 81/100\n",
            "432/432 [==============================] - 27s 62ms/step - loss: 1.4432 - accuracy: 0.5765 - val_loss: 1.8121 - val_accuracy: 0.5252\n",
            "Epoch 82/100\n",
            "432/432 [==============================] - 26s 60ms/step - loss: 1.3981 - accuracy: 0.5921 - val_loss: 1.9172 - val_accuracy: 0.5142\n",
            "Epoch 83/100\n",
            "432/432 [==============================] - 27s 63ms/step - loss: 1.3990 - accuracy: 0.5947 - val_loss: 2.0737 - val_accuracy: 0.4812\n",
            "Epoch 84/100\n",
            "432/432 [==============================] - 28s 64ms/step - loss: 1.4065 - accuracy: 0.5922 - val_loss: 1.9109 - val_accuracy: 0.4968\n",
            "Epoch 85/100\n",
            "432/432 [==============================] - 27s 62ms/step - loss: 1.3922 - accuracy: 0.5919 - val_loss: 1.9678 - val_accuracy: 0.4945\n",
            "Epoch 86/100\n",
            "432/432 [==============================] - 27s 63ms/step - loss: 1.3875 - accuracy: 0.5966 - val_loss: 1.8441 - val_accuracy: 0.5339\n",
            "Epoch 87/100\n",
            "432/432 [==============================] - 27s 63ms/step - loss: 1.3769 - accuracy: 0.5934 - val_loss: 1.9542 - val_accuracy: 0.5020\n",
            "Epoch 88/100\n",
            "432/432 [==============================] - 26s 60ms/step - loss: 1.3602 - accuracy: 0.5948 - val_loss: 1.9585 - val_accuracy: 0.4980\n",
            "Epoch 89/100\n",
            "432/432 [==============================] - 25s 59ms/step - loss: 1.3231 - accuracy: 0.6150 - val_loss: 1.9263 - val_accuracy: 0.5090\n",
            "Epoch 90/100\n",
            "432/432 [==============================] - 26s 59ms/step - loss: 1.3142 - accuracy: 0.6174 - val_loss: 2.6476 - val_accuracy: 0.3949\n",
            "Epoch 91/100\n",
            "432/432 [==============================] - 27s 61ms/step - loss: 1.3300 - accuracy: 0.6079 - val_loss: 1.9230 - val_accuracy: 0.5043\n",
            "Epoch 92/100\n",
            "432/432 [==============================] - 27s 63ms/step - loss: 1.3349 - accuracy: 0.6102 - val_loss: 1.8714 - val_accuracy: 0.5159\n",
            "Epoch 93/100\n",
            "432/432 [==============================] - 27s 63ms/step - loss: 1.3185 - accuracy: 0.6140 - val_loss: 1.9220 - val_accuracy: 0.4957\n",
            "Epoch 94/100\n",
            "432/432 [==============================] - 27s 63ms/step - loss: 1.2723 - accuracy: 0.6350 - val_loss: 1.8536 - val_accuracy: 0.5339\n",
            "Epoch 95/100\n",
            "432/432 [==============================] - 27s 62ms/step - loss: 1.2901 - accuracy: 0.6218 - val_loss: 1.9258 - val_accuracy: 0.5101\n",
            "Epoch 96/100\n",
            "432/432 [==============================] - 26s 60ms/step - loss: 1.2717 - accuracy: 0.6273 - val_loss: 1.8270 - val_accuracy: 0.5223\n",
            "Epoch 97/100\n",
            "432/432 [==============================] - 30s 68ms/step - loss: 1.2411 - accuracy: 0.6387 - val_loss: 1.9221 - val_accuracy: 0.5223\n",
            "Epoch 98/100\n",
            "432/432 [==============================] - 25s 59ms/step - loss: 1.2710 - accuracy: 0.6326 - val_loss: 2.0778 - val_accuracy: 0.4794\n",
            "Epoch 99/100\n",
            "432/432 [==============================] - 27s 61ms/step - loss: 1.2515 - accuracy: 0.6277 - val_loss: 2.1551 - val_accuracy: 0.4702\n"
          ]
        }
      ]
    }
  ]
}