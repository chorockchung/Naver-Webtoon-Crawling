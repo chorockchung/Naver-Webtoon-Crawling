{
  "nbformat": 4,
  "nbformat_minor": 0,
  "metadata": {
    "colab": {
      "provenance": []
    },
    "kernelspec": {
      "name": "python3",
      "display_name": "Python 3"
    },
    "language_info": {
      "name": "python"
    }
  },
  "cells": [
    {
      "cell_type": "code",
      "source": [
        "from google.colab import drive\n",
        "drive.mount('/content/drive')"
      ],
      "metadata": {
        "colab": {
          "base_uri": "https://localhost:8080/"
        },
        "id": "Y6u26yohNK8N",
        "outputId": "084c3492-9090-4eeb-918a-2b4fcbcdf581"
      },
      "execution_count": null,
      "outputs": [
        {
          "output_type": "stream",
          "name": "stdout",
          "text": [
            "Mounted at /content/drive\n"
          ]
        }
      ]
    },
    {
      "cell_type": "code",
      "source": [
        "FOLDERNAME = '빅데이터캡스톤/프젝/웹툰 크롤링된 이미지'\n",
        "assert FOLDERNAME is not None, \"[!] Enter the foldername.\"\n",
        "\n",
        "import sys\n",
        "sys.path.append('/content/drive/MyDrive/{}'.format(FOLDERNAME))\n",
        "\n",
        "# Change dariectory to current folder\n",
        "%cd /content/drive/MyDrive/$FOLDERNAME"
      ],
      "metadata": {
        "colab": {
          "base_uri": "https://localhost:8080/"
        },
        "id": "lzZJelEd0li5",
        "outputId": "96122325-7f62-40c0-b67c-69ce5bbf20fe"
      },
      "execution_count": null,
      "outputs": [
        {
          "output_type": "stream",
          "name": "stdout",
          "text": [
            "/content/drive/MyDrive/빅데이터캡스톤/프젝/웹툰 크롤링된 이미지\n"
          ]
        }
      ]
    },
    {
      "cell_type": "code",
      "source": [
        "!pip install selenium"
      ],
      "metadata": {
        "id": "I79jmBkHgVR2",
        "colab": {
          "base_uri": "https://localhost:8080/"
        },
        "outputId": "3081ece6-f805-4f3d-b750-030aa4f49e24"
      },
      "execution_count": null,
      "outputs": [
        {
          "output_type": "stream",
          "name": "stdout",
          "text": [
            "Collecting selenium\n",
            "  Downloading selenium-4.16.0-py3-none-any.whl (10.0 MB)\n",
            "\u001b[2K     \u001b[90m━━━━━━━━━━━━━━━━━━━━━━━━━━━━━━━━━━━━━━━━\u001b[0m \u001b[32m10.0/10.0 MB\u001b[0m \u001b[31m20.4 MB/s\u001b[0m eta \u001b[36m0:00:00\u001b[0m\n",
            "\u001b[?25hRequirement already satisfied: urllib3[socks]<3,>=1.26 in /usr/local/lib/python3.10/dist-packages (from selenium) (2.0.7)\n",
            "Collecting trio~=0.17 (from selenium)\n",
            "  Downloading trio-0.23.2-py3-none-any.whl (461 kB)\n",
            "\u001b[2K     \u001b[90m━━━━━━━━━━━━━━━━━━━━━━━━━━━━━━━━━━━━━━━━\u001b[0m \u001b[32m461.6/461.6 kB\u001b[0m \u001b[31m31.3 MB/s\u001b[0m eta \u001b[36m0:00:00\u001b[0m\n",
            "\u001b[?25hCollecting trio-websocket~=0.9 (from selenium)\n",
            "  Downloading trio_websocket-0.11.1-py3-none-any.whl (17 kB)\n",
            "Requirement already satisfied: certifi>=2021.10.8 in /usr/local/lib/python3.10/dist-packages (from selenium) (2023.11.17)\n",
            "Requirement already satisfied: attrs>=20.1.0 in /usr/local/lib/python3.10/dist-packages (from trio~=0.17->selenium) (23.1.0)\n",
            "Requirement already satisfied: sortedcontainers in /usr/local/lib/python3.10/dist-packages (from trio~=0.17->selenium) (2.4.0)\n",
            "Requirement already satisfied: idna in /usr/local/lib/python3.10/dist-packages (from trio~=0.17->selenium) (3.6)\n",
            "Collecting outcome (from trio~=0.17->selenium)\n",
            "  Downloading outcome-1.3.0.post0-py2.py3-none-any.whl (10 kB)\n",
            "Requirement already satisfied: sniffio>=1.3.0 in /usr/local/lib/python3.10/dist-packages (from trio~=0.17->selenium) (1.3.0)\n",
            "Requirement already satisfied: exceptiongroup in /usr/local/lib/python3.10/dist-packages (from trio~=0.17->selenium) (1.2.0)\n",
            "Collecting wsproto>=0.14 (from trio-websocket~=0.9->selenium)\n",
            "  Downloading wsproto-1.2.0-py3-none-any.whl (24 kB)\n",
            "Requirement already satisfied: pysocks!=1.5.7,<2.0,>=1.5.6 in /usr/local/lib/python3.10/dist-packages (from urllib3[socks]<3,>=1.26->selenium) (1.7.1)\n",
            "Collecting h11<1,>=0.9.0 (from wsproto>=0.14->trio-websocket~=0.9->selenium)\n",
            "  Downloading h11-0.14.0-py3-none-any.whl (58 kB)\n",
            "\u001b[2K     \u001b[90m━━━━━━━━━━━━━━━━━━━━━━━━━━━━━━━━━━━━━━━━\u001b[0m \u001b[32m58.3/58.3 kB\u001b[0m \u001b[31m6.9 MB/s\u001b[0m eta \u001b[36m0:00:00\u001b[0m\n",
            "\u001b[?25hInstalling collected packages: outcome, h11, wsproto, trio, trio-websocket, selenium\n",
            "Successfully installed h11-0.14.0 outcome-1.3.0.post0 selenium-4.16.0 trio-0.23.2 trio-websocket-0.11.1 wsproto-1.2.0\n"
          ]
        }
      ]
    },
    {
      "cell_type": "code",
      "source": [
        "import selenium\n",
        "from selenium import webdriver\n",
        "from selenium.webdriver.common.by import By"
      ],
      "metadata": {
        "id": "9CJMdke4hOUp"
      },
      "execution_count": null,
      "outputs": []
    },
    {
      "cell_type": "code",
      "source": [
        "chrome_options = webdriver.ChromeOptions()\n",
        "\n",
        "chrome_options.add_argument('--headless')\n",
        "\n",
        "chrome_options.add_argument('--no-sandbox')\n",
        "\n",
        "chrome_options.add_argument('--disable-dev-shm-usage')\n",
        "\n",
        "chrome_options.add_argument(\n",
        "            'user-agent=Mozilla/5.0 (Macintosh; Intel Mac OS X 10_12_6) AppleWebKit/537.36 (KHTML, like Gecko) Chrome/61.0.3163.100 Safari/537.36')\n",
        "\n",
        "chrome_options.add_argument(\"disable-gpu\")\n",
        "chrome_options.add_argument(\"--lang=ko_KR\")\n",
        "chrome_options.add_argument('user-agent=Mozilla/5.0 (Windows NT 10.0; Win64; x64) AppleWebKit/537.36 (KHTML, like Gecko) Chrome/91.0.4472.77 Safari/537.36')\n",
        "chrome_options.add_argument('--disable-blink-features=AutomationControlled')\n",
        "chrome_options.add_argument(\"--disable-extensions\")\n",
        "chrome_options.add_experimental_option('useAutomationExtension', False)\n",
        "chrome_options.add_experimental_option(\"excludeSwitches\", [\"enable-automation\"])"
      ],
      "metadata": {
        "id": "UX3vje5IhDee"
      },
      "execution_count": null,
      "outputs": []
    },
    {
      "cell_type": "code",
      "source": [
        "driver = webdriver.Chrome(options=chrome_options)"
      ],
      "metadata": {
        "id": "lliblbjRh7Yr"
      },
      "execution_count": null,
      "outputs": []
    },
    {
      "cell_type": "code",
      "source": [
        "# 정보들을 담을 리스트 정의하기\n",
        "id_list = []\n",
        "title_list = []\n",
        "plot_list = []\n",
        "tag_list = []\n",
        "webtoon_url_list = []\n",
        "img_url_list = []"
      ],
      "metadata": {
        "id": "phzZj1v-2yrW"
      },
      "execution_count": null,
      "outputs": []
    },
    {
      "cell_type": "code",
      "source": [
        "from bs4 import BeautifulSoup\n",
        "from selenium import webdriver\n",
        "from selenium.webdriver.common.by import By\n",
        "import time\n",
        "from time import sleep\n",
        "import requests\n",
        "import os\n",
        "import requests\n",
        "import re\n",
        "import pandas as pd"
      ],
      "metadata": {
        "id": "pHm-eZjUAeFr"
      },
      "execution_count": null,
      "outputs": []
    },
    {
      "cell_type": "code",
      "source": [
        "url = 'https://comic.naver.com/bestChallenge?sortType=view&page=1'\n",
        "driver.get(url)\n",
        "\n",
        "#User-Agent값으로 유저 정보 입력\n",
        "headers = {'User-Agent' : 'Mozilla/5.0 (Windows NT 10.0; Win64; x64) AppleWebKit/537.36 (KHTML, like Gecko) Chrome/91.0.4472.77 Safari/537.36'}\n",
        "res = requests.get(url, headers=headers)\n",
        "\n",
        "# Create a BeautifulSoup object to parse the initial page content\n",
        "soup = BeautifulSoup(res.text, 'html.parser')\n",
        "\n",
        "titles = driver.find_elements(By.CLASS_NAME, \"ChallengeListItem__item--X3Md7\")\n",
        "# Sleep for a short duration to allow the page to load\n",
        "time.sleep(3)\n",
        "\n",
        "for i in range(20, len(titles)): #앞에 크롤링한거 방지하기  위해 range에 숫자 explict\n",
        "    driver.get(driver.current_url) #back하거나 새로고침되면 주소를 다시 가져와야함\n",
        "    time.sleep(2)\n",
        "    print('Current URL:', driver.current_url)\n",
        "    print(len(titles))\n",
        "    # Click on a specific element, e.g., the second element with class \"ChallengeListItem__item--X3Md7\"\n",
        "    titles_tmp = driver.find_elements(By.CLASS_NAME, \"ChallengeListItem__item--X3Md7\")\n",
        "    time.sleep(2)\n",
        "    # basket_titles = titles_tmp\n",
        "    # time.sleep(3)\n",
        "    # print('basket_titles', basket_titles)\n",
        "    print(titles_tmp, len(titles))\n",
        "    titles_tmp[i].click()\n",
        "    print(i, '/30   ' , driver.current_url)\n",
        "\n",
        "    # Sleep for a short duration\n",
        "    sleep(0.5)\n",
        "\n",
        "    # Click on a specific title link (you can replace this XPath with the actual XPath)\n",
        "    title_link = driver.find_element(By.XPATH, '//*[@id=\"content\"]/ul/li/a')\n",
        "    title_link.click()\n",
        "    print(driver.current_url)\n",
        "    webtoon_url_list.append(title_link)\n",
        "    # Sleep for a short duration\n",
        "    sleep(0.5)\n",
        "\n",
        "    # Get the page source after clicking\n",
        "    html = driver.page_source\n",
        "\n",
        "    # Create a BeautifulSoup object to parse the clicked page content\n",
        "    soup = BeautifulSoup(html, 'html.parser')\n",
        "\n",
        "    # Get the title\n",
        "    title_element = soup.select_one(\"#content div div h2\")\n",
        "    if(str(type(title_element)) == \"<class 'NoneType'>\"):\n",
        "      print('title element is NoneType')\n",
        "      continue;\n",
        "    title = title_element.text\n",
        "    title_list.append(title)\n",
        "    print('Title:', title)\n",
        "    print(driver.current_url)\n",
        "\n",
        "    sleep(0.5)\n",
        "\n",
        "    # Get the Plot\n",
        "    plot_element = soup.select_one(\"#content div div div p\")\n",
        "    plot = plot_element.text\n",
        "    plot_list.append(plot)\n",
        "    print('Plot:', plot)\n",
        "    print(driver.current_url)\n",
        "\n",
        "    sleep(0.5)\n",
        "\n",
        "    # Get the Tag\n",
        "    div_element = soup.select_one('div.TagGroup__tag_group--uUJza')\n",
        "\n",
        "    if div_element:\n",
        "        # Extract text from all <a> tags within the selected div\n",
        "        a_tags_text = [a.text for a in div_element.select('a')]\n",
        "        tag_list.append(a_tags_text)\n",
        "    else: \"tag not Found\"\n",
        "\n",
        "    print('Tags', tag_list)\n",
        "    print(driver.current_url)\n",
        "\n",
        "    sleep(0.5)\n",
        "\n",
        "    #회차 계산\n",
        "    li_elements = driver.find_elements(By.XPATH, '//*[@id=\"content\"]/div[3]/ul/li')\n",
        "    if(len(li_elements) > 5): li_elements_len = 5\n",
        "    else: li_elements_len = len(li_elements)\n",
        "    print('li_elements', len(li_elements))\n",
        "    sleep(0.5)\n",
        "\n",
        "    #회차 다 돌아보기\n",
        "    for j in range(li_elements_len):\n",
        "      driver.get(driver.current_url) #back하거나 새로고침되면 주소를 다시 가져와야함\n",
        "      print('Current URL:', driver.current_url)\n",
        "\n",
        "      time.sleep(2)\n",
        "      li_elements = driver.find_elements(By.XPATH, '//*[@id=\"content\"]/div[3]/ul/li')\n",
        "      basket_li_elements = li_elements\n",
        "      print('li_elements 개수 :', len(li_elements))\n",
        "      time.sleep(2)\n",
        "      basket_li_elements[j].click()\n",
        "\n",
        "      match = re.search(r'(?<=no=)\\d+', driver.current_url) #url 뒤의 no= 파라미터로 회차 계산\n",
        "      round = match.group()\n",
        "      print(round, '회차')\n",
        "\n",
        "      sleep(2)\n",
        "\n",
        "      # Fetch the page content using requests\n",
        "      page_content = requests.get(driver.current_url, headers=headers).text\n",
        "\n",
        "      # Create a BeautifulSoup object with the page content\n",
        "      soup = BeautifulSoup(page_content, 'html.parser')\n",
        "\n",
        "      #이미지 순서대로 확인\n",
        "      for k in range(10):\n",
        "        element_id = f'content_image_{k}'  # Generate the element ID\n",
        "\n",
        "        # Find the image element with the generated ID\n",
        "        image_element = soup.find('img', {'id': element_id})\n",
        "\n",
        "        sleep(0.5)\n",
        "        # Check if the image element exists\n",
        "        if image_element:\n",
        "            image_src = image_element['src']\n",
        "            img_url_list.append(image_src)\n",
        "            print('imgsrc', image_src)\n",
        "\n",
        "            sleep(0.5)\n",
        "\n",
        "            #이미지 저장\n",
        "            dir_now = os.getcwd()\n",
        "\n",
        "            r = requests.get(image_src, headers=headers)\n",
        "\n",
        "            with open(f'{dir_now}/{title}_{round}_{k}.jpg', \"wb\") as outfile:\n",
        "                outfile.write(r.content)\n",
        "            sleep(0.5)\n",
        "        else:\n",
        "            # Handle the case where the element does not exist\n",
        "            print(f'Image with ID {element_id} not found')\n",
        "            break;\n",
        "      driver.back()\n",
        "    driver.back()\n",
        "    print(driver.current_url)  #https://comic.naver.com/artistTitle\n",
        "    driver.back()\n",
        "    print(driver.current_url) #https://comic.naver.com/bestChallenge?sortType=view&page=3\n",
        "    print('backeddd')"
      ],
      "metadata": {
        "id": "BySIf6XgZ15G",
        "colab": {
          "base_uri": "https://localhost:8080/",
          "height": 1000
        },
        "outputId": "051ed83e-f802-48e8-ec77-415c74211382"
      },
      "execution_count": null,
      "outputs": [
        {
          "output_type": "stream",
          "name": "stdout",
          "text": [
            "Current URL: https://comic.naver.com/bestChallenge?sortType=view&page=1\n",
            "30\n",
            "[<selenium.webdriver.remote.webelement.WebElement (session=\"16dee5c87f86a197a30a1cf1c51ecfa6\", element=\"1FCAEDB9B8F41016EF9090699F2EDEC3_element_181\")>, <selenium.webdriver.remote.webelement.WebElement (session=\"16dee5c87f86a197a30a1cf1c51ecfa6\", element=\"1FCAEDB9B8F41016EF9090699F2EDEC3_element_182\")>, <selenium.webdriver.remote.webelement.WebElement (session=\"16dee5c87f86a197a30a1cf1c51ecfa6\", element=\"1FCAEDB9B8F41016EF9090699F2EDEC3_element_183\")>, <selenium.webdriver.remote.webelement.WebElement (session=\"16dee5c87f86a197a30a1cf1c51ecfa6\", element=\"1FCAEDB9B8F41016EF9090699F2EDEC3_element_184\")>, <selenium.webdriver.remote.webelement.WebElement (session=\"16dee5c87f86a197a30a1cf1c51ecfa6\", element=\"1FCAEDB9B8F41016EF9090699F2EDEC3_element_185\")>, <selenium.webdriver.remote.webelement.WebElement (session=\"16dee5c87f86a197a30a1cf1c51ecfa6\", element=\"1FCAEDB9B8F41016EF9090699F2EDEC3_element_186\")>, <selenium.webdriver.remote.webelement.WebElement (session=\"16dee5c87f86a197a30a1cf1c51ecfa6\", element=\"1FCAEDB9B8F41016EF9090699F2EDEC3_element_187\")>, <selenium.webdriver.remote.webelement.WebElement (session=\"16dee5c87f86a197a30a1cf1c51ecfa6\", element=\"1FCAEDB9B8F41016EF9090699F2EDEC3_element_188\")>, <selenium.webdriver.remote.webelement.WebElement (session=\"16dee5c87f86a197a30a1cf1c51ecfa6\", element=\"1FCAEDB9B8F41016EF9090699F2EDEC3_element_189\")>, <selenium.webdriver.remote.webelement.WebElement (session=\"16dee5c87f86a197a30a1cf1c51ecfa6\", element=\"1FCAEDB9B8F41016EF9090699F2EDEC3_element_190\")>, <selenium.webdriver.remote.webelement.WebElement (session=\"16dee5c87f86a197a30a1cf1c51ecfa6\", element=\"1FCAEDB9B8F41016EF9090699F2EDEC3_element_191\")>, <selenium.webdriver.remote.webelement.WebElement (session=\"16dee5c87f86a197a30a1cf1c51ecfa6\", element=\"1FCAEDB9B8F41016EF9090699F2EDEC3_element_192\")>, <selenium.webdriver.remote.webelement.WebElement (session=\"16dee5c87f86a197a30a1cf1c51ecfa6\", element=\"1FCAEDB9B8F41016EF9090699F2EDEC3_element_193\")>, <selenium.webdriver.remote.webelement.WebElement (session=\"16dee5c87f86a197a30a1cf1c51ecfa6\", element=\"1FCAEDB9B8F41016EF9090699F2EDEC3_element_194\")>, <selenium.webdriver.remote.webelement.WebElement (session=\"16dee5c87f86a197a30a1cf1c51ecfa6\", element=\"1FCAEDB9B8F41016EF9090699F2EDEC3_element_195\")>, <selenium.webdriver.remote.webelement.WebElement (session=\"16dee5c87f86a197a30a1cf1c51ecfa6\", element=\"1FCAEDB9B8F41016EF9090699F2EDEC3_element_196\")>, <selenium.webdriver.remote.webelement.WebElement (session=\"16dee5c87f86a197a30a1cf1c51ecfa6\", element=\"1FCAEDB9B8F41016EF9090699F2EDEC3_element_197\")>, <selenium.webdriver.remote.webelement.WebElement (session=\"16dee5c87f86a197a30a1cf1c51ecfa6\", element=\"1FCAEDB9B8F41016EF9090699F2EDEC3_element_198\")>, <selenium.webdriver.remote.webelement.WebElement (session=\"16dee5c87f86a197a30a1cf1c51ecfa6\", element=\"1FCAEDB9B8F41016EF9090699F2EDEC3_element_199\")>, <selenium.webdriver.remote.webelement.WebElement (session=\"16dee5c87f86a197a30a1cf1c51ecfa6\", element=\"1FCAEDB9B8F41016EF9090699F2EDEC3_element_200\")>, <selenium.webdriver.remote.webelement.WebElement (session=\"16dee5c87f86a197a30a1cf1c51ecfa6\", element=\"1FCAEDB9B8F41016EF9090699F2EDEC3_element_201\")>, <selenium.webdriver.remote.webelement.WebElement (session=\"16dee5c87f86a197a30a1cf1c51ecfa6\", element=\"1FCAEDB9B8F41016EF9090699F2EDEC3_element_202\")>, <selenium.webdriver.remote.webelement.WebElement (session=\"16dee5c87f86a197a30a1cf1c51ecfa6\", element=\"1FCAEDB9B8F41016EF9090699F2EDEC3_element_203\")>, <selenium.webdriver.remote.webelement.WebElement (session=\"16dee5c87f86a197a30a1cf1c51ecfa6\", element=\"1FCAEDB9B8F41016EF9090699F2EDEC3_element_204\")>, <selenium.webdriver.remote.webelement.WebElement (session=\"16dee5c87f86a197a30a1cf1c51ecfa6\", element=\"1FCAEDB9B8F41016EF9090699F2EDEC3_element_205\")>, <selenium.webdriver.remote.webelement.WebElement (session=\"16dee5c87f86a197a30a1cf1c51ecfa6\", element=\"1FCAEDB9B8F41016EF9090699F2EDEC3_element_206\")>, <selenium.webdriver.remote.webelement.WebElement (session=\"16dee5c87f86a197a30a1cf1c51ecfa6\", element=\"1FCAEDB9B8F41016EF9090699F2EDEC3_element_207\")>, <selenium.webdriver.remote.webelement.WebElement (session=\"16dee5c87f86a197a30a1cf1c51ecfa6\", element=\"1FCAEDB9B8F41016EF9090699F2EDEC3_element_208\")>, <selenium.webdriver.remote.webelement.WebElement (session=\"16dee5c87f86a197a30a1cf1c51ecfa6\", element=\"1FCAEDB9B8F41016EF9090699F2EDEC3_element_209\")>, <selenium.webdriver.remote.webelement.WebElement (session=\"16dee5c87f86a197a30a1cf1c51ecfa6\", element=\"1FCAEDB9B8F41016EF9090699F2EDEC3_element_210\")>] 30\n",
            "20 /30    https://comic.naver.com/artistTitle?id=328289\n",
            "https://comic.naver.com/bestChallenge/list?titleId=734597\n",
            "Title: 자작 보드게임 동아리\n",
            "https://comic.naver.com/bestChallenge/list?titleId=734597\n",
            "Plot: 일상 속 게임, 게임 속 일상\n",
            "https://comic.naver.com/bestChallenge/list?titleId=734597\n",
            "Tags [[]]\n",
            "https://comic.naver.com/bestChallenge/list?titleId=734597\n",
            "li_elements 20\n",
            "Current URL: https://comic.naver.com/bestChallenge/list?titleId=734597\n",
            "li_elements 개수 : 20\n",
            "278 회차\n",
            "imgsrc https://image-comic.pstatic.net/user_contents_data/challenge_comic/2023/12/29/328289/upload_3690479109192049975.jpeg\n",
            "imgsrc https://image-comic.pstatic.net/user_contents_data/challenge_comic/2023/12/29/328289/upload_3618191707811897953.jpeg\n",
            "imgsrc https://image-comic.pstatic.net/user_contents_data/challenge_comic/2023/12/29/328289/upload_4122593784601338165.jpeg\n",
            "imgsrc https://image-comic.pstatic.net/user_contents_data/challenge_comic/2023/12/29/328289/upload_3474355813758690406.jpeg\n",
            "imgsrc https://image-comic.pstatic.net/user_contents_data/challenge_comic/2023/12/29/328289/upload_7077741286708557923.jpeg\n",
            "imgsrc https://image-comic.pstatic.net/user_contents_data/challenge_comic/2023/12/29/328289/upload_7233963218773173090.jpeg\n",
            "imgsrc https://image-comic.pstatic.net/user_contents_data/challenge_comic/2023/12/29/328289/upload_4121982661556451127.jpeg\n",
            "Image with ID content_image_7 not found\n",
            "Current URL: https://comic.naver.com/bestChallenge/list?titleId=734597\n",
            "li_elements 개수 : 20\n",
            "277 회차\n",
            "imgsrc https://image-comic.pstatic.net/user_contents_data/challenge_comic/2023/12/25/328289/upload_7305509539031495268.jpeg\n",
            "imgsrc https://image-comic.pstatic.net/user_contents_data/challenge_comic/2023/12/25/328289/upload_3978987682505450338.jpeg\n",
            "imgsrc https://image-comic.pstatic.net/user_contents_data/challenge_comic/2023/12/25/328289/upload_4063435677334845241.jpeg\n",
            "imgsrc https://image-comic.pstatic.net/user_contents_data/challenge_comic/2023/12/25/328289/upload_7233968896736768822.jpeg\n",
            "imgsrc https://image-comic.pstatic.net/user_contents_data/challenge_comic/2023/12/25/328289/upload_7221865476227818339.jpeg\n",
            "imgsrc https://image-comic.pstatic.net/user_contents_data/challenge_comic/2023/12/25/328289/upload_3689683268156929330.jpeg\n",
            "imgsrc https://image-comic.pstatic.net/user_contents_data/challenge_comic/2023/12/25/328289/upload_7076062340251607908.jpeg\n",
            "imgsrc https://image-comic.pstatic.net/user_contents_data/challenge_comic/2023/12/25/328289/upload_7161674911171295027.jpeg\n",
            "imgsrc https://image-comic.pstatic.net/user_contents_data/challenge_comic/2023/12/25/328289/upload_7017789340637541681.jpeg\n",
            "imgsrc https://image-comic.pstatic.net/user_contents_data/challenge_comic/2023/12/25/328289/upload_7004278516002219106.jpeg\n",
            "Current URL: https://comic.naver.com/bestChallenge/list?titleId=734597\n",
            "li_elements 개수 : 20\n",
            "276 회차\n",
            "imgsrc https://image-comic.pstatic.net/user_contents_data/challenge_comic/2023/12/22/328289/upload_3702293579837104437.jpeg\n",
            "imgsrc https://image-comic.pstatic.net/user_contents_data/challenge_comic/2023/12/22/328289/upload_7363447170419209779.jpeg\n",
            "imgsrc https://image-comic.pstatic.net/user_contents_data/challenge_comic/2023/12/22/328289/upload_4120852363586122293.jpeg\n",
            "imgsrc https://image-comic.pstatic.net/user_contents_data/challenge_comic/2023/12/22/328289/upload_7220506270173836597.jpeg\n",
            "imgsrc https://image-comic.pstatic.net/user_contents_data/challenge_comic/2023/12/22/328289/upload_7003155021276734049.jpeg\n",
            "Image with ID content_image_5 not found\n",
            "Current URL: https://comic.naver.com/bestChallenge/list?titleId=734597\n",
            "li_elements 개수 : 20\n",
            "275 회차\n",
            "imgsrc https://image-comic.pstatic.net/user_contents_data/challenge_comic/2023/12/15/328289/upload_4136105699399708721.jpeg\n",
            "imgsrc https://image-comic.pstatic.net/user_contents_data/challenge_comic/2023/12/15/328289/upload_3832670370962695222.jpeg\n",
            "imgsrc https://image-comic.pstatic.net/user_contents_data/challenge_comic/2023/12/15/328289/upload_3474637296570032948.jpeg\n",
            "imgsrc https://image-comic.pstatic.net/user_contents_data/challenge_comic/2023/12/15/328289/upload_3763099661803926066.jpeg\n",
            "imgsrc https://image-comic.pstatic.net/user_contents_data/challenge_comic/2023/12/15/328289/upload_7005180331090850401.jpeg\n",
            "imgsrc https://image-comic.pstatic.net/user_contents_data/challenge_comic/2023/12/15/328289/upload_3775252567365477478.jpeg\n",
            "Image with ID content_image_6 not found\n",
            "Current URL: https://comic.naver.com/bestChallenge/list?titleId=734597\n",
            "li_elements 개수 : 20\n",
            "274 회차\n",
            "imgsrc https://image-comic.pstatic.net/user_contents_data/challenge_comic/2023/12/08/328289/upload_3544949063591158582.jpeg\n",
            "imgsrc https://image-comic.pstatic.net/user_contents_data/challenge_comic/2023/12/08/328289/upload_7005461599140067633.jpeg\n",
            "imgsrc https://image-comic.pstatic.net/user_contents_data/challenge_comic/2023/12/08/328289/upload_3689354518559077220.jpeg\n",
            "imgsrc https://image-comic.pstatic.net/user_contents_data/challenge_comic/2023/12/08/328289/upload_3689917468378412643.jpeg\n",
            "imgsrc https://image-comic.pstatic.net/user_contents_data/challenge_comic/2023/12/08/328289/upload_3991934440512305462.jpeg\n",
            "imgsrc https://image-comic.pstatic.net/user_contents_data/challenge_comic/2023/12/08/328289/upload_3631138458064466994.jpeg\n",
            "Image with ID content_image_6 not found\n",
            "https://comic.naver.com/artistTitle?id=328289\n",
            "https://comic.naver.com/bestChallenge?sortType=view&page=1\n",
            "backeddd\n",
            "Current URL: https://comic.naver.com/bestChallenge?sortType=view&page=1\n",
            "30\n",
            "[<selenium.webdriver.remote.webelement.WebElement (session=\"16dee5c87f86a197a30a1cf1c51ecfa6\", element=\"0F3E348D1A7C6A4E1F4893E2C63C3539_element_769\")>, <selenium.webdriver.remote.webelement.WebElement (session=\"16dee5c87f86a197a30a1cf1c51ecfa6\", element=\"0F3E348D1A7C6A4E1F4893E2C63C3539_element_770\")>, <selenium.webdriver.remote.webelement.WebElement (session=\"16dee5c87f86a197a30a1cf1c51ecfa6\", element=\"0F3E348D1A7C6A4E1F4893E2C63C3539_element_771\")>, <selenium.webdriver.remote.webelement.WebElement (session=\"16dee5c87f86a197a30a1cf1c51ecfa6\", element=\"0F3E348D1A7C6A4E1F4893E2C63C3539_element_772\")>, <selenium.webdriver.remote.webelement.WebElement (session=\"16dee5c87f86a197a30a1cf1c51ecfa6\", element=\"0F3E348D1A7C6A4E1F4893E2C63C3539_element_773\")>, <selenium.webdriver.remote.webelement.WebElement (session=\"16dee5c87f86a197a30a1cf1c51ecfa6\", element=\"0F3E348D1A7C6A4E1F4893E2C63C3539_element_774\")>, <selenium.webdriver.remote.webelement.WebElement (session=\"16dee5c87f86a197a30a1cf1c51ecfa6\", element=\"0F3E348D1A7C6A4E1F4893E2C63C3539_element_775\")>, <selenium.webdriver.remote.webelement.WebElement (session=\"16dee5c87f86a197a30a1cf1c51ecfa6\", element=\"0F3E348D1A7C6A4E1F4893E2C63C3539_element_776\")>, <selenium.webdriver.remote.webelement.WebElement (session=\"16dee5c87f86a197a30a1cf1c51ecfa6\", element=\"0F3E348D1A7C6A4E1F4893E2C63C3539_element_777\")>, <selenium.webdriver.remote.webelement.WebElement (session=\"16dee5c87f86a197a30a1cf1c51ecfa6\", element=\"0F3E348D1A7C6A4E1F4893E2C63C3539_element_778\")>, <selenium.webdriver.remote.webelement.WebElement (session=\"16dee5c87f86a197a30a1cf1c51ecfa6\", element=\"0F3E348D1A7C6A4E1F4893E2C63C3539_element_779\")>, <selenium.webdriver.remote.webelement.WebElement (session=\"16dee5c87f86a197a30a1cf1c51ecfa6\", element=\"0F3E348D1A7C6A4E1F4893E2C63C3539_element_780\")>, <selenium.webdriver.remote.webelement.WebElement (session=\"16dee5c87f86a197a30a1cf1c51ecfa6\", element=\"0F3E348D1A7C6A4E1F4893E2C63C3539_element_781\")>, <selenium.webdriver.remote.webelement.WebElement (session=\"16dee5c87f86a197a30a1cf1c51ecfa6\", element=\"0F3E348D1A7C6A4E1F4893E2C63C3539_element_782\")>, <selenium.webdriver.remote.webelement.WebElement (session=\"16dee5c87f86a197a30a1cf1c51ecfa6\", element=\"0F3E348D1A7C6A4E1F4893E2C63C3539_element_783\")>, <selenium.webdriver.remote.webelement.WebElement (session=\"16dee5c87f86a197a30a1cf1c51ecfa6\", element=\"0F3E348D1A7C6A4E1F4893E2C63C3539_element_784\")>, <selenium.webdriver.remote.webelement.WebElement (session=\"16dee5c87f86a197a30a1cf1c51ecfa6\", element=\"0F3E348D1A7C6A4E1F4893E2C63C3539_element_785\")>, <selenium.webdriver.remote.webelement.WebElement (session=\"16dee5c87f86a197a30a1cf1c51ecfa6\", element=\"0F3E348D1A7C6A4E1F4893E2C63C3539_element_786\")>, <selenium.webdriver.remote.webelement.WebElement (session=\"16dee5c87f86a197a30a1cf1c51ecfa6\", element=\"0F3E348D1A7C6A4E1F4893E2C63C3539_element_787\")>, <selenium.webdriver.remote.webelement.WebElement (session=\"16dee5c87f86a197a30a1cf1c51ecfa6\", element=\"0F3E348D1A7C6A4E1F4893E2C63C3539_element_788\")>, <selenium.webdriver.remote.webelement.WebElement (session=\"16dee5c87f86a197a30a1cf1c51ecfa6\", element=\"0F3E348D1A7C6A4E1F4893E2C63C3539_element_789\")>, <selenium.webdriver.remote.webelement.WebElement (session=\"16dee5c87f86a197a30a1cf1c51ecfa6\", element=\"0F3E348D1A7C6A4E1F4893E2C63C3539_element_790\")>, <selenium.webdriver.remote.webelement.WebElement (session=\"16dee5c87f86a197a30a1cf1c51ecfa6\", element=\"0F3E348D1A7C6A4E1F4893E2C63C3539_element_791\")>, <selenium.webdriver.remote.webelement.WebElement (session=\"16dee5c87f86a197a30a1cf1c51ecfa6\", element=\"0F3E348D1A7C6A4E1F4893E2C63C3539_element_792\")>, <selenium.webdriver.remote.webelement.WebElement (session=\"16dee5c87f86a197a30a1cf1c51ecfa6\", element=\"0F3E348D1A7C6A4E1F4893E2C63C3539_element_793\")>, <selenium.webdriver.remote.webelement.WebElement (session=\"16dee5c87f86a197a30a1cf1c51ecfa6\", element=\"0F3E348D1A7C6A4E1F4893E2C63C3539_element_794\")>, <selenium.webdriver.remote.webelement.WebElement (session=\"16dee5c87f86a197a30a1cf1c51ecfa6\", element=\"0F3E348D1A7C6A4E1F4893E2C63C3539_element_795\")>, <selenium.webdriver.remote.webelement.WebElement (session=\"16dee5c87f86a197a30a1cf1c51ecfa6\", element=\"0F3E348D1A7C6A4E1F4893E2C63C3539_element_796\")>, <selenium.webdriver.remote.webelement.WebElement (session=\"16dee5c87f86a197a30a1cf1c51ecfa6\", element=\"0F3E348D1A7C6A4E1F4893E2C63C3539_element_797\")>, <selenium.webdriver.remote.webelement.WebElement (session=\"16dee5c87f86a197a30a1cf1c51ecfa6\", element=\"0F3E348D1A7C6A4E1F4893E2C63C3539_element_798\")>] 30\n",
            "21 /30    https://comic.naver.com/artistTitle?id=340797\n",
            "https://comic.naver.com/bestChallenge/list?titleId=761336\n",
            "Title: 우리 카페 사장님이 이상하다\n",
            "https://comic.naver.com/bestChallenge/list?titleId=761336\n",
            "Plot: 첫 알바, 오컬트 한 사장님, 그것보다 더 이상한 카페!\n",
            "그 속에서 묵묵히 자기 할 일을 하는 알바생의 이야기.\n",
            "https://comic.naver.com/bestChallenge/list?titleId=761336\n",
            "Tags [[], []]\n",
            "https://comic.naver.com/bestChallenge/list?titleId=761336\n",
            "li_elements 20\n",
            "Current URL: https://comic.naver.com/bestChallenge/list?titleId=761336\n",
            "li_elements 개수 : 20\n",
            "69 회차\n",
            "imgsrc https://image-comic.pstatic.net/user_contents_data/challenge_comic/2023/12/24/340797/upload_4136049628538090545.jpeg\n",
            "imgsrc https://image-comic.pstatic.net/user_contents_data/challenge_comic/2023/12/24/340797/upload_7365466994721109345.jpeg\n",
            "Image with ID content_image_2 not found\n",
            "Current URL: https://comic.naver.com/bestChallenge/list?titleId=761336\n",
            "li_elements 개수 : 20\n",
            "68 회차\n"
          ]
        },
        {
          "output_type": "error",
          "ename": "KeyboardInterrupt",
          "evalue": "",
          "traceback": [
            "\u001b[0;31m---------------------------------------------------------------------------\u001b[0m",
            "\u001b[0;31mKeyboardInterrupt\u001b[0m                         Traceback (most recent call last)",
            "\u001b[0;32m<ipython-input-10-b956a9bc5793>\u001b[0m in \u001b[0;36m<cell line: 15>\u001b[0;34m()\u001b[0m\n\u001b[1;32m    106\u001b[0m \u001b[0;34m\u001b[0m\u001b[0m\n\u001b[1;32m    107\u001b[0m       \u001b[0;31m# Fetch the page content using requests\u001b[0m\u001b[0;34m\u001b[0m\u001b[0;34m\u001b[0m\u001b[0m\n\u001b[0;32m--> 108\u001b[0;31m       \u001b[0mpage_content\u001b[0m \u001b[0;34m=\u001b[0m \u001b[0mrequests\u001b[0m\u001b[0;34m.\u001b[0m\u001b[0mget\u001b[0m\u001b[0;34m(\u001b[0m\u001b[0mdriver\u001b[0m\u001b[0;34m.\u001b[0m\u001b[0mcurrent_url\u001b[0m\u001b[0;34m,\u001b[0m \u001b[0mheaders\u001b[0m\u001b[0;34m=\u001b[0m\u001b[0mheaders\u001b[0m\u001b[0;34m)\u001b[0m\u001b[0;34m.\u001b[0m\u001b[0mtext\u001b[0m\u001b[0;34m\u001b[0m\u001b[0;34m\u001b[0m\u001b[0m\n\u001b[0m\u001b[1;32m    109\u001b[0m \u001b[0;34m\u001b[0m\u001b[0m\n\u001b[1;32m    110\u001b[0m       \u001b[0;31m# Create a BeautifulSoup object with the page content\u001b[0m\u001b[0;34m\u001b[0m\u001b[0;34m\u001b[0m\u001b[0m\n",
            "\u001b[0;32m/usr/local/lib/python3.10/dist-packages/requests/api.py\u001b[0m in \u001b[0;36mget\u001b[0;34m(url, params, **kwargs)\u001b[0m\n\u001b[1;32m     71\u001b[0m     \"\"\"\n\u001b[1;32m     72\u001b[0m \u001b[0;34m\u001b[0m\u001b[0m\n\u001b[0;32m---> 73\u001b[0;31m     \u001b[0;32mreturn\u001b[0m \u001b[0mrequest\u001b[0m\u001b[0;34m(\u001b[0m\u001b[0;34m\"get\"\u001b[0m\u001b[0;34m,\u001b[0m \u001b[0murl\u001b[0m\u001b[0;34m,\u001b[0m \u001b[0mparams\u001b[0m\u001b[0;34m=\u001b[0m\u001b[0mparams\u001b[0m\u001b[0;34m,\u001b[0m \u001b[0;34m**\u001b[0m\u001b[0mkwargs\u001b[0m\u001b[0;34m)\u001b[0m\u001b[0;34m\u001b[0m\u001b[0;34m\u001b[0m\u001b[0m\n\u001b[0m\u001b[1;32m     74\u001b[0m \u001b[0;34m\u001b[0m\u001b[0m\n\u001b[1;32m     75\u001b[0m \u001b[0;34m\u001b[0m\u001b[0m\n",
            "\u001b[0;32m/usr/local/lib/python3.10/dist-packages/requests/api.py\u001b[0m in \u001b[0;36mrequest\u001b[0;34m(method, url, **kwargs)\u001b[0m\n\u001b[1;32m     57\u001b[0m     \u001b[0;31m# cases, and look like a memory leak in others.\u001b[0m\u001b[0;34m\u001b[0m\u001b[0;34m\u001b[0m\u001b[0m\n\u001b[1;32m     58\u001b[0m     \u001b[0;32mwith\u001b[0m \u001b[0msessions\u001b[0m\u001b[0;34m.\u001b[0m\u001b[0mSession\u001b[0m\u001b[0;34m(\u001b[0m\u001b[0;34m)\u001b[0m \u001b[0;32mas\u001b[0m \u001b[0msession\u001b[0m\u001b[0;34m:\u001b[0m\u001b[0;34m\u001b[0m\u001b[0;34m\u001b[0m\u001b[0m\n\u001b[0;32m---> 59\u001b[0;31m         \u001b[0;32mreturn\u001b[0m \u001b[0msession\u001b[0m\u001b[0;34m.\u001b[0m\u001b[0mrequest\u001b[0m\u001b[0;34m(\u001b[0m\u001b[0mmethod\u001b[0m\u001b[0;34m=\u001b[0m\u001b[0mmethod\u001b[0m\u001b[0;34m,\u001b[0m \u001b[0murl\u001b[0m\u001b[0;34m=\u001b[0m\u001b[0murl\u001b[0m\u001b[0;34m,\u001b[0m \u001b[0;34m**\u001b[0m\u001b[0mkwargs\u001b[0m\u001b[0;34m)\u001b[0m\u001b[0;34m\u001b[0m\u001b[0;34m\u001b[0m\u001b[0m\n\u001b[0m\u001b[1;32m     60\u001b[0m \u001b[0;34m\u001b[0m\u001b[0m\n\u001b[1;32m     61\u001b[0m \u001b[0;34m\u001b[0m\u001b[0m\n",
            "\u001b[0;32m/usr/local/lib/python3.10/dist-packages/requests/sessions.py\u001b[0m in \u001b[0;36mrequest\u001b[0;34m(self, method, url, params, data, headers, cookies, files, auth, timeout, allow_redirects, proxies, hooks, stream, verify, cert, json)\u001b[0m\n\u001b[1;32m    587\u001b[0m         }\n\u001b[1;32m    588\u001b[0m         \u001b[0msend_kwargs\u001b[0m\u001b[0;34m.\u001b[0m\u001b[0mupdate\u001b[0m\u001b[0;34m(\u001b[0m\u001b[0msettings\u001b[0m\u001b[0;34m)\u001b[0m\u001b[0;34m\u001b[0m\u001b[0;34m\u001b[0m\u001b[0m\n\u001b[0;32m--> 589\u001b[0;31m         \u001b[0mresp\u001b[0m \u001b[0;34m=\u001b[0m \u001b[0mself\u001b[0m\u001b[0;34m.\u001b[0m\u001b[0msend\u001b[0m\u001b[0;34m(\u001b[0m\u001b[0mprep\u001b[0m\u001b[0;34m,\u001b[0m \u001b[0;34m**\u001b[0m\u001b[0msend_kwargs\u001b[0m\u001b[0;34m)\u001b[0m\u001b[0;34m\u001b[0m\u001b[0;34m\u001b[0m\u001b[0m\n\u001b[0m\u001b[1;32m    590\u001b[0m \u001b[0;34m\u001b[0m\u001b[0m\n\u001b[1;32m    591\u001b[0m         \u001b[0;32mreturn\u001b[0m \u001b[0mresp\u001b[0m\u001b[0;34m\u001b[0m\u001b[0;34m\u001b[0m\u001b[0m\n",
            "\u001b[0;32m/usr/local/lib/python3.10/dist-packages/requests/sessions.py\u001b[0m in \u001b[0;36msend\u001b[0;34m(self, request, **kwargs)\u001b[0m\n\u001b[1;32m    701\u001b[0m \u001b[0;34m\u001b[0m\u001b[0m\n\u001b[1;32m    702\u001b[0m         \u001b[0;31m# Send the request\u001b[0m\u001b[0;34m\u001b[0m\u001b[0;34m\u001b[0m\u001b[0m\n\u001b[0;32m--> 703\u001b[0;31m         \u001b[0mr\u001b[0m \u001b[0;34m=\u001b[0m \u001b[0madapter\u001b[0m\u001b[0;34m.\u001b[0m\u001b[0msend\u001b[0m\u001b[0;34m(\u001b[0m\u001b[0mrequest\u001b[0m\u001b[0;34m,\u001b[0m \u001b[0;34m**\u001b[0m\u001b[0mkwargs\u001b[0m\u001b[0;34m)\u001b[0m\u001b[0;34m\u001b[0m\u001b[0;34m\u001b[0m\u001b[0m\n\u001b[0m\u001b[1;32m    704\u001b[0m \u001b[0;34m\u001b[0m\u001b[0m\n\u001b[1;32m    705\u001b[0m         \u001b[0;31m# Total elapsed time of the request (approximately)\u001b[0m\u001b[0;34m\u001b[0m\u001b[0;34m\u001b[0m\u001b[0m\n",
            "\u001b[0;32m/usr/local/lib/python3.10/dist-packages/requests/adapters.py\u001b[0m in \u001b[0;36msend\u001b[0;34m(self, request, stream, timeout, verify, cert, proxies)\u001b[0m\n\u001b[1;32m    484\u001b[0m \u001b[0;34m\u001b[0m\u001b[0m\n\u001b[1;32m    485\u001b[0m         \u001b[0;32mtry\u001b[0m\u001b[0;34m:\u001b[0m\u001b[0;34m\u001b[0m\u001b[0;34m\u001b[0m\u001b[0m\n\u001b[0;32m--> 486\u001b[0;31m             resp = conn.urlopen(\n\u001b[0m\u001b[1;32m    487\u001b[0m                 \u001b[0mmethod\u001b[0m\u001b[0;34m=\u001b[0m\u001b[0mrequest\u001b[0m\u001b[0;34m.\u001b[0m\u001b[0mmethod\u001b[0m\u001b[0;34m,\u001b[0m\u001b[0;34m\u001b[0m\u001b[0;34m\u001b[0m\u001b[0m\n\u001b[1;32m    488\u001b[0m                 \u001b[0murl\u001b[0m\u001b[0;34m=\u001b[0m\u001b[0murl\u001b[0m\u001b[0;34m,\u001b[0m\u001b[0;34m\u001b[0m\u001b[0;34m\u001b[0m\u001b[0m\n",
            "\u001b[0;32m/usr/local/lib/python3.10/dist-packages/urllib3/connectionpool.py\u001b[0m in \u001b[0;36murlopen\u001b[0;34m(self, method, url, body, headers, retries, redirect, assert_same_host, timeout, pool_timeout, release_conn, chunked, body_pos, preload_content, decode_content, **response_kw)\u001b[0m\n\u001b[1;32m    789\u001b[0m \u001b[0;34m\u001b[0m\u001b[0m\n\u001b[1;32m    790\u001b[0m             \u001b[0;31m# Make the request on the HTTPConnection object\u001b[0m\u001b[0;34m\u001b[0m\u001b[0;34m\u001b[0m\u001b[0m\n\u001b[0;32m--> 791\u001b[0;31m             response = self._make_request(\n\u001b[0m\u001b[1;32m    792\u001b[0m                 \u001b[0mconn\u001b[0m\u001b[0;34m,\u001b[0m\u001b[0;34m\u001b[0m\u001b[0;34m\u001b[0m\u001b[0m\n\u001b[1;32m    793\u001b[0m                 \u001b[0mmethod\u001b[0m\u001b[0;34m,\u001b[0m\u001b[0;34m\u001b[0m\u001b[0;34m\u001b[0m\u001b[0m\n",
            "\u001b[0;32m/usr/local/lib/python3.10/dist-packages/urllib3/connectionpool.py\u001b[0m in \u001b[0;36m_make_request\u001b[0;34m(self, conn, method, url, body, headers, retries, timeout, chunked, response_conn, preload_content, decode_content, enforce_content_length)\u001b[0m\n\u001b[1;32m    535\u001b[0m         \u001b[0;31m# Receive the response from the server\u001b[0m\u001b[0;34m\u001b[0m\u001b[0;34m\u001b[0m\u001b[0m\n\u001b[1;32m    536\u001b[0m         \u001b[0;32mtry\u001b[0m\u001b[0;34m:\u001b[0m\u001b[0;34m\u001b[0m\u001b[0;34m\u001b[0m\u001b[0m\n\u001b[0;32m--> 537\u001b[0;31m             \u001b[0mresponse\u001b[0m \u001b[0;34m=\u001b[0m \u001b[0mconn\u001b[0m\u001b[0;34m.\u001b[0m\u001b[0mgetresponse\u001b[0m\u001b[0;34m(\u001b[0m\u001b[0;34m)\u001b[0m\u001b[0;34m\u001b[0m\u001b[0;34m\u001b[0m\u001b[0m\n\u001b[0m\u001b[1;32m    538\u001b[0m         \u001b[0;32mexcept\u001b[0m \u001b[0;34m(\u001b[0m\u001b[0mBaseSSLError\u001b[0m\u001b[0;34m,\u001b[0m \u001b[0mOSError\u001b[0m\u001b[0;34m)\u001b[0m \u001b[0;32mas\u001b[0m \u001b[0me\u001b[0m\u001b[0;34m:\u001b[0m\u001b[0;34m\u001b[0m\u001b[0;34m\u001b[0m\u001b[0m\n\u001b[1;32m    539\u001b[0m             \u001b[0mself\u001b[0m\u001b[0;34m.\u001b[0m\u001b[0m_raise_timeout\u001b[0m\u001b[0;34m(\u001b[0m\u001b[0merr\u001b[0m\u001b[0;34m=\u001b[0m\u001b[0me\u001b[0m\u001b[0;34m,\u001b[0m \u001b[0murl\u001b[0m\u001b[0;34m=\u001b[0m\u001b[0murl\u001b[0m\u001b[0;34m,\u001b[0m \u001b[0mtimeout_value\u001b[0m\u001b[0;34m=\u001b[0m\u001b[0mread_timeout\u001b[0m\u001b[0;34m)\u001b[0m\u001b[0;34m\u001b[0m\u001b[0;34m\u001b[0m\u001b[0m\n",
            "\u001b[0;32m/usr/local/lib/python3.10/dist-packages/urllib3/connection.py\u001b[0m in \u001b[0;36mgetresponse\u001b[0;34m(self)\u001b[0m\n\u001b[1;32m    459\u001b[0m \u001b[0;34m\u001b[0m\u001b[0m\n\u001b[1;32m    460\u001b[0m         \u001b[0;31m# Get the response from http.client.HTTPConnection\u001b[0m\u001b[0;34m\u001b[0m\u001b[0;34m\u001b[0m\u001b[0m\n\u001b[0;32m--> 461\u001b[0;31m         \u001b[0mhttplib_response\u001b[0m \u001b[0;34m=\u001b[0m \u001b[0msuper\u001b[0m\u001b[0;34m(\u001b[0m\u001b[0;34m)\u001b[0m\u001b[0;34m.\u001b[0m\u001b[0mgetresponse\u001b[0m\u001b[0;34m(\u001b[0m\u001b[0;34m)\u001b[0m\u001b[0;34m\u001b[0m\u001b[0;34m\u001b[0m\u001b[0m\n\u001b[0m\u001b[1;32m    462\u001b[0m \u001b[0;34m\u001b[0m\u001b[0m\n\u001b[1;32m    463\u001b[0m         \u001b[0;32mtry\u001b[0m\u001b[0;34m:\u001b[0m\u001b[0;34m\u001b[0m\u001b[0;34m\u001b[0m\u001b[0m\n",
            "\u001b[0;32m/usr/lib/python3.10/http/client.py\u001b[0m in \u001b[0;36mgetresponse\u001b[0;34m(self)\u001b[0m\n\u001b[1;32m   1373\u001b[0m         \u001b[0;32mtry\u001b[0m\u001b[0;34m:\u001b[0m\u001b[0;34m\u001b[0m\u001b[0;34m\u001b[0m\u001b[0m\n\u001b[1;32m   1374\u001b[0m             \u001b[0;32mtry\u001b[0m\u001b[0;34m:\u001b[0m\u001b[0;34m\u001b[0m\u001b[0;34m\u001b[0m\u001b[0m\n\u001b[0;32m-> 1375\u001b[0;31m                 \u001b[0mresponse\u001b[0m\u001b[0;34m.\u001b[0m\u001b[0mbegin\u001b[0m\u001b[0;34m(\u001b[0m\u001b[0;34m)\u001b[0m\u001b[0;34m\u001b[0m\u001b[0;34m\u001b[0m\u001b[0m\n\u001b[0m\u001b[1;32m   1376\u001b[0m             \u001b[0;32mexcept\u001b[0m \u001b[0mConnectionError\u001b[0m\u001b[0;34m:\u001b[0m\u001b[0;34m\u001b[0m\u001b[0;34m\u001b[0m\u001b[0m\n\u001b[1;32m   1377\u001b[0m                 \u001b[0mself\u001b[0m\u001b[0;34m.\u001b[0m\u001b[0mclose\u001b[0m\u001b[0;34m(\u001b[0m\u001b[0;34m)\u001b[0m\u001b[0;34m\u001b[0m\u001b[0;34m\u001b[0m\u001b[0m\n",
            "\u001b[0;32m/usr/lib/python3.10/http/client.py\u001b[0m in \u001b[0;36mbegin\u001b[0;34m(self)\u001b[0m\n\u001b[1;32m    316\u001b[0m         \u001b[0;31m# read until we get a non-100 response\u001b[0m\u001b[0;34m\u001b[0m\u001b[0;34m\u001b[0m\u001b[0m\n\u001b[1;32m    317\u001b[0m         \u001b[0;32mwhile\u001b[0m \u001b[0;32mTrue\u001b[0m\u001b[0;34m:\u001b[0m\u001b[0;34m\u001b[0m\u001b[0;34m\u001b[0m\u001b[0m\n\u001b[0;32m--> 318\u001b[0;31m             \u001b[0mversion\u001b[0m\u001b[0;34m,\u001b[0m \u001b[0mstatus\u001b[0m\u001b[0;34m,\u001b[0m \u001b[0mreason\u001b[0m \u001b[0;34m=\u001b[0m \u001b[0mself\u001b[0m\u001b[0;34m.\u001b[0m\u001b[0m_read_status\u001b[0m\u001b[0;34m(\u001b[0m\u001b[0;34m)\u001b[0m\u001b[0;34m\u001b[0m\u001b[0;34m\u001b[0m\u001b[0m\n\u001b[0m\u001b[1;32m    319\u001b[0m             \u001b[0;32mif\u001b[0m \u001b[0mstatus\u001b[0m \u001b[0;34m!=\u001b[0m \u001b[0mCONTINUE\u001b[0m\u001b[0;34m:\u001b[0m\u001b[0;34m\u001b[0m\u001b[0;34m\u001b[0m\u001b[0m\n\u001b[1;32m    320\u001b[0m                 \u001b[0;32mbreak\u001b[0m\u001b[0;34m\u001b[0m\u001b[0;34m\u001b[0m\u001b[0m\n",
            "\u001b[0;32m/usr/lib/python3.10/http/client.py\u001b[0m in \u001b[0;36m_read_status\u001b[0;34m(self)\u001b[0m\n\u001b[1;32m    277\u001b[0m \u001b[0;34m\u001b[0m\u001b[0m\n\u001b[1;32m    278\u001b[0m     \u001b[0;32mdef\u001b[0m \u001b[0m_read_status\u001b[0m\u001b[0;34m(\u001b[0m\u001b[0mself\u001b[0m\u001b[0;34m)\u001b[0m\u001b[0;34m:\u001b[0m\u001b[0;34m\u001b[0m\u001b[0;34m\u001b[0m\u001b[0m\n\u001b[0;32m--> 279\u001b[0;31m         \u001b[0mline\u001b[0m \u001b[0;34m=\u001b[0m \u001b[0mstr\u001b[0m\u001b[0;34m(\u001b[0m\u001b[0mself\u001b[0m\u001b[0;34m.\u001b[0m\u001b[0mfp\u001b[0m\u001b[0;34m.\u001b[0m\u001b[0mreadline\u001b[0m\u001b[0;34m(\u001b[0m\u001b[0m_MAXLINE\u001b[0m \u001b[0;34m+\u001b[0m \u001b[0;36m1\u001b[0m\u001b[0;34m)\u001b[0m\u001b[0;34m,\u001b[0m \u001b[0;34m\"iso-8859-1\"\u001b[0m\u001b[0;34m)\u001b[0m\u001b[0;34m\u001b[0m\u001b[0;34m\u001b[0m\u001b[0m\n\u001b[0m\u001b[1;32m    280\u001b[0m         \u001b[0;32mif\u001b[0m \u001b[0mlen\u001b[0m\u001b[0;34m(\u001b[0m\u001b[0mline\u001b[0m\u001b[0;34m)\u001b[0m \u001b[0;34m>\u001b[0m \u001b[0m_MAXLINE\u001b[0m\u001b[0;34m:\u001b[0m\u001b[0;34m\u001b[0m\u001b[0;34m\u001b[0m\u001b[0m\n\u001b[1;32m    281\u001b[0m             \u001b[0;32mraise\u001b[0m \u001b[0mLineTooLong\u001b[0m\u001b[0;34m(\u001b[0m\u001b[0;34m\"status line\"\u001b[0m\u001b[0;34m)\u001b[0m\u001b[0;34m\u001b[0m\u001b[0;34m\u001b[0m\u001b[0m\n",
            "\u001b[0;32m/usr/lib/python3.10/socket.py\u001b[0m in \u001b[0;36mreadinto\u001b[0;34m(self, b)\u001b[0m\n\u001b[1;32m    703\u001b[0m         \u001b[0;32mwhile\u001b[0m \u001b[0;32mTrue\u001b[0m\u001b[0;34m:\u001b[0m\u001b[0;34m\u001b[0m\u001b[0;34m\u001b[0m\u001b[0m\n\u001b[1;32m    704\u001b[0m             \u001b[0;32mtry\u001b[0m\u001b[0;34m:\u001b[0m\u001b[0;34m\u001b[0m\u001b[0;34m\u001b[0m\u001b[0m\n\u001b[0;32m--> 705\u001b[0;31m                 \u001b[0;32mreturn\u001b[0m \u001b[0mself\u001b[0m\u001b[0;34m.\u001b[0m\u001b[0m_sock\u001b[0m\u001b[0;34m.\u001b[0m\u001b[0mrecv_into\u001b[0m\u001b[0;34m(\u001b[0m\u001b[0mb\u001b[0m\u001b[0;34m)\u001b[0m\u001b[0;34m\u001b[0m\u001b[0;34m\u001b[0m\u001b[0m\n\u001b[0m\u001b[1;32m    706\u001b[0m             \u001b[0;32mexcept\u001b[0m \u001b[0mtimeout\u001b[0m\u001b[0;34m:\u001b[0m\u001b[0;34m\u001b[0m\u001b[0;34m\u001b[0m\u001b[0m\n\u001b[1;32m    707\u001b[0m                 \u001b[0mself\u001b[0m\u001b[0;34m.\u001b[0m\u001b[0m_timeout_occurred\u001b[0m \u001b[0;34m=\u001b[0m \u001b[0;32mTrue\u001b[0m\u001b[0;34m\u001b[0m\u001b[0;34m\u001b[0m\u001b[0m\n",
            "\u001b[0;32m/usr/lib/python3.10/ssl.py\u001b[0m in \u001b[0;36mrecv_into\u001b[0;34m(self, buffer, nbytes, flags)\u001b[0m\n\u001b[1;32m   1301\u001b[0m                   \u001b[0;34m\"non-zero flags not allowed in calls to recv_into() on %s\"\u001b[0m \u001b[0;34m%\u001b[0m\u001b[0;34m\u001b[0m\u001b[0;34m\u001b[0m\u001b[0m\n\u001b[1;32m   1302\u001b[0m                   self.__class__)\n\u001b[0;32m-> 1303\u001b[0;31m             \u001b[0;32mreturn\u001b[0m \u001b[0mself\u001b[0m\u001b[0;34m.\u001b[0m\u001b[0mread\u001b[0m\u001b[0;34m(\u001b[0m\u001b[0mnbytes\u001b[0m\u001b[0;34m,\u001b[0m \u001b[0mbuffer\u001b[0m\u001b[0;34m)\u001b[0m\u001b[0;34m\u001b[0m\u001b[0;34m\u001b[0m\u001b[0m\n\u001b[0m\u001b[1;32m   1304\u001b[0m         \u001b[0;32melse\u001b[0m\u001b[0;34m:\u001b[0m\u001b[0;34m\u001b[0m\u001b[0;34m\u001b[0m\u001b[0m\n\u001b[1;32m   1305\u001b[0m             \u001b[0;32mreturn\u001b[0m \u001b[0msuper\u001b[0m\u001b[0;34m(\u001b[0m\u001b[0;34m)\u001b[0m\u001b[0;34m.\u001b[0m\u001b[0mrecv_into\u001b[0m\u001b[0;34m(\u001b[0m\u001b[0mbuffer\u001b[0m\u001b[0;34m,\u001b[0m \u001b[0mnbytes\u001b[0m\u001b[0;34m,\u001b[0m \u001b[0mflags\u001b[0m\u001b[0;34m)\u001b[0m\u001b[0;34m\u001b[0m\u001b[0;34m\u001b[0m\u001b[0m\n",
            "\u001b[0;32m/usr/lib/python3.10/ssl.py\u001b[0m in \u001b[0;36mread\u001b[0;34m(self, len, buffer)\u001b[0m\n\u001b[1;32m   1157\u001b[0m         \u001b[0;32mtry\u001b[0m\u001b[0;34m:\u001b[0m\u001b[0;34m\u001b[0m\u001b[0;34m\u001b[0m\u001b[0m\n\u001b[1;32m   1158\u001b[0m             \u001b[0;32mif\u001b[0m \u001b[0mbuffer\u001b[0m \u001b[0;32mis\u001b[0m \u001b[0;32mnot\u001b[0m \u001b[0;32mNone\u001b[0m\u001b[0;34m:\u001b[0m\u001b[0;34m\u001b[0m\u001b[0;34m\u001b[0m\u001b[0m\n\u001b[0;32m-> 1159\u001b[0;31m                 \u001b[0;32mreturn\u001b[0m \u001b[0mself\u001b[0m\u001b[0;34m.\u001b[0m\u001b[0m_sslobj\u001b[0m\u001b[0;34m.\u001b[0m\u001b[0mread\u001b[0m\u001b[0;34m(\u001b[0m\u001b[0mlen\u001b[0m\u001b[0;34m,\u001b[0m \u001b[0mbuffer\u001b[0m\u001b[0;34m)\u001b[0m\u001b[0;34m\u001b[0m\u001b[0;34m\u001b[0m\u001b[0m\n\u001b[0m\u001b[1;32m   1160\u001b[0m             \u001b[0;32melse\u001b[0m\u001b[0;34m:\u001b[0m\u001b[0;34m\u001b[0m\u001b[0;34m\u001b[0m\u001b[0m\n\u001b[1;32m   1161\u001b[0m                 \u001b[0;32mreturn\u001b[0m \u001b[0mself\u001b[0m\u001b[0;34m.\u001b[0m\u001b[0m_sslobj\u001b[0m\u001b[0;34m.\u001b[0m\u001b[0mread\u001b[0m\u001b[0;34m(\u001b[0m\u001b[0mlen\u001b[0m\u001b[0;34m)\u001b[0m\u001b[0;34m\u001b[0m\u001b[0;34m\u001b[0m\u001b[0m\n",
            "\u001b[0;31mKeyboardInterrupt\u001b[0m: "
          ]
        }
      ]
    },
    {
      "cell_type": "code",
      "source": [
        "print(title_list)\n",
        "print(len(plot_list))\n",
        "print(tag_list)\n",
        "# 정보 저장\n",
        "data = {\n",
        "    'titles': title_list,\n",
        "    'plots': plot_list,\n",
        "    'tags': tag_list\n",
        "}\n",
        "\n",
        "df = pd.DataFrame(data)\n",
        "# Specify the file path for the Excel file\n",
        "excel_file_path = '/content/drive/MyDrive/빅데이터캡스톤/프젝/웹툰 정보_3p_3.xlsx'\n",
        "df.to_excel(excel_file_path, index=False)\n",
        "\n",
        "print(f\"Excel file saved to: {excel_file_path}\")"
      ],
      "metadata": {
        "id": "K6tQ2sILCa9u"
      },
      "execution_count": null,
      "outputs": []
    },
    {
      "cell_type": "code",
      "source": [
        "# print(type(title_element))"
      ],
      "metadata": {
        "id": "SBYSpMZnC5w0"
      },
      "execution_count": null,
      "outputs": []
    }
  ]
}